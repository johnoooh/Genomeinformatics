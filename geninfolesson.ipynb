{
 "cells": [
  {
   "cell_type": "markdown",
   "id": "02466c78",
   "metadata": {},
   "source": [
    "# Basic Python"
   ]
  },
  {
   "cell_type": "markdown",
   "id": "4fe5f316",
   "metadata": {},
   "source": [
    "Jupyter notebook is a simple way to learn how to code \n",
    "\n",
    "Each cell can be run individually "
   ]
  },
  {
   "cell_type": "code",
   "execution_count": null,
   "id": "3b54e7a6",
   "metadata": {},
   "outputs": [],
   "source": [
    "x = 22\n",
    "string = \"Hello World\""
   ]
  },
  {
   "cell_type": "code",
   "execution_count": null,
   "id": "91ac1a97",
   "metadata": {},
   "outputs": [],
   "source": [
    "print(x)\n",
    "print(string)"
   ]
  },
  {
   "cell_type": "markdown",
   "id": "d821a26d",
   "metadata": {},
   "source": [
    "## Variables"
   ]
  },
  {
   "cell_type": "markdown",
   "id": "5cf8df87",
   "metadata": {},
   "source": [
    "#### Basic Datatypes in Python"
   ]
  },
  {
   "cell_type": "markdown",
   "id": "72db326c",
   "metadata": {},
   "source": [
    "Int or Integer"
   ]
  },
  {
   "cell_type": "code",
   "execution_count": null,
   "id": "069e3f5e",
   "metadata": {},
   "outputs": [],
   "source": [
    "x = 22\n",
    "y = 10"
   ]
  },
  {
   "cell_type": "code",
   "execution_count": null,
   "id": "4e3eff1e",
   "metadata": {},
   "outputs": [],
   "source": [
    "total = x * y\n",
    "print(total)"
   ]
  },
  {
   "cell_type": "markdown",
   "id": "e34194a3",
   "metadata": {},
   "source": [
    "Float type is a decimal number"
   ]
  },
  {
   "cell_type": "code",
   "execution_count": null,
   "id": "86da4624",
   "metadata": {},
   "outputs": [],
   "source": [
    "k = 3.5\n",
    "p = 5.444444\n",
    "totalflt = k+p\n",
    "print(totalflt)\n"
   ]
  },
  {
   "cell_type": "markdown",
   "id": "a5894b89",
   "metadata": {},
   "source": [
    "Strings are a sequence of characters"
   ]
  },
  {
   "cell_type": "code",
   "execution_count": null,
   "id": "1554c206",
   "metadata": {},
   "outputs": [],
   "source": [
    "\n",
    "print (\"this is a string, strings can be created with quotation marks, single, double or triple\")\n"
   ]
  },
  {
   "cell_type": "code",
   "execution_count": 2,
   "id": "75b52be8",
   "metadata": {},
   "outputs": [
    {
     "name": "stdout",
     "output_type": "stream",
     "text": [
      "AUGUGGTGUUUAACCC\n"
     ]
    }
   ],
   "source": [
    "seq = \"AUGUGGTGUUUAACCC\"\n",
    "print(seq)"
   ]
  },
  {
   "cell_type": "markdown",
   "id": "e4f557d2",
   "metadata": {},
   "source": [
    "Strings can also be added"
   ]
  },
  {
   "cell_type": "code",
   "execution_count": null,
   "id": "7610b60c",
   "metadata": {},
   "outputs": [],
   "source": [
    "added_string = \"this is a string: \" + gene\n",
    "print(added_string)"
   ]
  },
  {
   "cell_type": "markdown",
   "id": "32192227",
   "metadata": {},
   "source": [
    "Finally there is a list which is a collection of ordered items"
   ]
  },
  {
   "cell_type": "code",
   "execution_count": null,
   "id": "773cf29f",
   "metadata": {},
   "outputs": [],
   "source": [
    "list_with_words= [\"this\", \"is\", \"a\", \"list\", \"we\", \"created\"]"
   ]
  },
  {
   "cell_type": "code",
   "execution_count": null,
   "id": "454c70c8",
   "metadata": {},
   "outputs": [],
   "source": [
    "print(list_with_words)"
   ]
  },
  {
   "cell_type": "markdown",
   "id": "3cc20fc6",
   "metadata": {},
   "source": [
    "We can access specific places in the list using their index"
   ]
  },
  {
   "cell_type": "code",
   "execution_count": null,
   "id": "33ff4357",
   "metadata": {},
   "outputs": [],
   "source": [
    "print(list_with_words[0])  #in programming, index start with 0 instead of 1, so the first item would be number 0"
   ]
  },
  {
   "cell_type": "code",
   "execution_count": null,
   "id": "f6c4f658",
   "metadata": {},
   "outputs": [],
   "source": [
    "#print the last item\n",
    "print(list_with_words[-1])"
   ]
  },
  {
   "cell_type": "code",
   "execution_count": null,
   "id": "a65dae35",
   "metadata": {},
   "outputs": [],
   "source": [
    "#print from second item to the 5th item\n",
    "print(list_with_words[1:4])"
   ]
  },
  {
   "cell_type": "markdown",
   "id": "8141113d",
   "metadata": {},
   "source": [
    "Strings can also be accessed in the same way"
   ]
  },
  {
   "cell_type": "code",
   "execution_count": null,
   "id": "7eabc330",
   "metadata": {},
   "outputs": [],
   "source": [
    "print(seq[0:3])\n"
   ]
  },
  {
   "cell_type": "markdown",
   "id": "17d7b116",
   "metadata": {},
   "source": [
    "Lots of genetic work is done though manipulating strings\n",
    "\n",
    "Can we see if our gene starts with a start codon  (AUG)? "
   ]
  },
  {
   "cell_type": "code",
   "execution_count": null,
   "id": "c3f115d5",
   "metadata": {},
   "outputs": [],
   "source": [
    "if seq[0:3] == \"AUG\":\n",
    "    print(\"Starts with a start codon: \" + gene)"
   ]
  },
  {
   "cell_type": "markdown",
   "id": "7c157e0c",
   "metadata": {},
   "source": [
    "What if we have a list of sequences we want to test? how can we do this same test on all of them? "
   ]
  },
  {
   "cell_type": "code",
   "execution_count": null,
   "id": "ef8393d0",
   "metadata": {},
   "outputs": [],
   "source": [
    "li_of_genes = [seq, \"AUGAACGG\", \"AACCGGA\",\"GAUUACA\"]\n",
    "aug_li = []\n",
    "\n",
    "for item in li_of_genes: \n",
    "    if item[0:3] == \"AUG\":  #Note the two equals signs.  \n",
    "        #This denotes an equality and is different than just one equals sign which assigns a vale\n",
    "        \n",
    "        print(\"Starts with a start codon: \" + item)\n",
    "        aug_li.append(item)  #this adds the item to the end of the list\n",
    "    "
   ]
  },
  {
   "cell_type": "markdown",
   "id": "3d98800e",
   "metadata": {},
   "source": [
    "What if we want to count how many started with AUG?"
   ]
  },
  {
   "cell_type": "code",
   "execution_count": null,
   "id": "2354d2fd",
   "metadata": {},
   "outputs": [],
   "source": [
    "\n",
    "count = 0\n",
    "\n",
    "for item in li_of_genes: \n",
    "    if item[0:3] == \"AUG\":\n",
    "        count += 1   #this is a shortcut that adds 1 to the variable count.   It means count = count+1\n",
    "\n",
    "        \n",
    "print(count)"
   ]
  },
  {
   "cell_type": "markdown",
   "id": "19715bc4",
   "metadata": {},
   "source": [
    "What if we want to count how many Adenine are in a specific sequence? What about finding the % of a specific character?"
   ]
  },
  {
   "cell_type": "code",
   "execution_count": 4,
   "id": "02291d10",
   "metadata": {},
   "outputs": [
    {
     "name": "stdout",
     "output_type": "stream",
     "text": [
      "0.1875\n"
     ]
    }
   ],
   "source": [
    "countA = 0\n",
    "countTotal = 0\n",
    "\n",
    "for char in seq:\n",
    "    if char == \"A\":\n",
    "        countA+=1\n",
    "    countTotal+=1  #this line is outside of the if statement therefore it will run even if the if statement is false\n",
    "    \n",
    "print(countA/countTotal)"
   ]
  },
  {
   "cell_type": "code",
   "execution_count": null,
   "id": "df109182",
   "metadata": {},
   "outputs": [],
   "source": [
    "with open(\"nsp3.txt\" ,\"r\") as file:\n",
    "    for line in file:\n",
    "        print(line)"
   ]
  },
  {
   "cell_type": "code",
   "execution_count": null,
   "id": "178dc2e1",
   "metadata": {},
   "outputs": [],
   "source": []
  }
 ],
 "metadata": {
  "kernelspec": {
   "display_name": "Python 3",
   "language": "python",
   "name": "python3"
  },
  "language_info": {
   "codemirror_mode": {
    "name": "ipython",
    "version": 3
   },
   "file_extension": ".py",
   "mimetype": "text/x-python",
   "name": "python",
   "nbconvert_exporter": "python",
   "pygments_lexer": "ipython3",
   "version": "3.8.8"
  }
 },
 "nbformat": 4,
 "nbformat_minor": 5
}
